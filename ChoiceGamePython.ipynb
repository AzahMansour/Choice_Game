{
 "cells": [
  {
   "cell_type": "code",
   "execution_count": 56,
   "id": "db7319e5-2623-43cd-b09f-779ff496486e",
   "metadata": {},
   "outputs": [
    {
     "name": "stdout",
     "output_type": "stream",
     "text": [
      "Welcome to my first game!\n"
     ]
    },
    {
     "name": "stdin",
     "output_type": "stream",
     "text": [
      "What is your name?  amr\n",
      "What is your age?  27\n"
     ]
    },
    {
     "name": "stdout",
     "output_type": "stream",
     "text": [
      "Hello amr you are 27 years old.\n",
      "You are old enough to play!\n"
     ]
    },
    {
     "name": "stdin",
     "output_type": "stream",
     "text": [
      "The goal of this game is to escape the forest you're stranded in. Do you want to play?  yes\n"
     ]
    },
    {
     "name": "stdout",
     "output_type": "stream",
     "text": [
      "Let's play!\n",
      "You are starting with a health of 10\n"
     ]
    },
    {
     "name": "stdin",
     "output_type": "stream",
     "text": [
      "First choice... Left or Right? (left/right)  right\n",
      "You've walked up to a small cottage with an open door. Do you go in or keep straight? (in/straight)  in\n"
     ]
    },
    {
     "name": "stdout",
     "output_type": "stream",
     "text": [
      "You are welcomed by a sweet family, but their dog isn't fond of you. You got bit and lost 5 health.\n",
      "You still have health left, keep going!\n"
     ]
    },
    {
     "name": "stdin",
     "output_type": "stream",
     "text": [
      "The family is now weary of you. Do you try to explain your situation or quickly leave? (explain/leave)  explain\n"
     ]
    },
    {
     "name": "stdout",
     "output_type": "stream",
     "text": [
      "The family was very understanding.. or so you thought. However, they refuse to let you out and block all chances of escaping. You lose...\n"
     ]
    }
   ],
   "source": [
    "print('Welcome to my first game!')  #print() will simply output whatever is in the parenthesis. string values are inside quotation marks\n",
    "name = input(\"What is your name? \")\n",
    "age = int(input(\"What is your age? \"))\n",
    "print(\"Hello\", name, \"you are\", age, \"years old.\")\n",
    "\n",
    "health = 10\n",
    "\n",
    "if age >= 18:                                              #if the user is 18 or older, they will be told theyre old enough\n",
    "    print(\"You are old enough to play!\")\n",
    "    wants_to_play = input(\"The goal of this game is to escape the forest you're stranded in. Do you want to play? \").lower() #.lower() converts input to lowercase to match if statement\n",
    "    if wants_to_play == \"yes\":                            \n",
    "        print(\"Let's play!\")\n",
    "        print(\"You are starting with a health of\", health)\n",
    "        \n",
    "        left_or_right = input(\"First choice... Left or Right? (left/right) \").lower()  #input() allows user to type and enter their answer\n",
    "        \n",
    "        if left_or_right == \"left\":\n",
    "            ans = input(\"Nice, you've reached a hidden waterfall... Do you take this chance to hydrate or turn around? (hydrate/turn) \").lower()\n",
    "            \n",
    "            if ans == \"hydrate\":\n",
    "                print(\"You took the time to replenish... Uh oh, you're feeling a little sick. You got poisoned and lost 5 health\")\n",
    "                health -= 5    #health -= 5 is the same as --> health = health - 5\n",
    "                \n",
    "                ans = input(\"A large tree is right by you, do you want to rest under the tree until you feel better? (yes/no)\")\n",
    "                if ans == \"yes\":\n",
    "                    print(\"The tree provided a great shade in the extreme heat! But you didn't realize you were resting under a beehive, and you got attacked by a swarm of bees. You lose.\")\n",
    "                elif ans == \"no\":\n",
    "                    print(\"You continue on the path. The poisoning made you weak, but the extreme heat is making you even weaker. You lost 5 health.\")\n",
    "                    health -= 5\n",
    "\n",
    "                    if health <= 0:                               #This if/else statement informs user if they still have health left\n",
    "                        print(\"You lost all health. You lose...\" )  #If they don't have health left, they can't continue the game\n",
    "                    else:\n",
    "                        print(\"You stil have health left, keep going!\")\n",
    "                        \n",
    "            elif ans == \"turn\":\n",
    "                ans = input(\"You're now being stalked by an eery figure. Do you run for your life or confront the figure? (run/confront) \")\n",
    "                \n",
    "                if ans == \"confront\":\n",
    "                    print(\"Better luck next time, your bare hands were not enough to fight off the mysterious figure. You lost the fight and this game...\")\n",
    "\n",
    "                elif ans == \"run\":\n",
    "                    print(\"You lost the figure... Then tripped and fell hard. You lost 5 health.\")\n",
    "                    health -=5\n",
    "                    \n",
    "                    if health <=0:\n",
    "                        print(\"You lost all health. You lose...\")\n",
    "                    else:\n",
    "                        print(\"You still have health left, keep going!\")\n",
    "                        ans = input(\"As you limp off, you notice smoke rising from the trees on your left. Ahead, there is also what looks like a lake. Do you follow the smoke or the lake? (smoke/lake) \").lower()\n",
    "                        \n",
    "                        if ans == \"smoke\":\n",
    "                            print(\"Perfect timing! You followed the smoke and caught a group of campers preparing to leave and offered to give you a ride outta here! You win!\")\n",
    "                        elif ans == \"lake\":\n",
    "                            print(\"Did we mention the forest is in Florida... The alligators got to you as you let your guard down for a second... You lose.\")\n",
    "\n",
    "\n",
    "\n",
    "        if left_or_right == \"right\":\n",
    "            ans = input(\"You've walked up to a small cottage with an open door. Do you go in or keep straight? (in/straight) \").lower()\n",
    "            if ans == \"in\":\n",
    "                print(\"You are welcomed by a sweet family, but their dog isn't fond of you. You got bit and lost 5 health.\")\n",
    "                health -= 5\n",
    "                if health <= 0:\n",
    "                    print(\"You lost all health. You lose...\")\n",
    "                else:\n",
    "                    print(\"You still have health left, keep going!\")\n",
    "                \n",
    "                ans = input(\"The family is now weary of you. Do you try to explain your situation or quickly leave? (explain/leave) \")\n",
    "                if ans == \"explain\":\n",
    "                    print(\"The family was very understanding.. or so you thought. However, they refuse to let you out and block all chances of escaping. You lose...\")\n",
    "                elif ans == \"leave\":\n",
    "                    print(\"The family was insulted by your hastiness. They let the dogs out to chase you. You could not beat the 3 dogs. You lose...\")\n",
    "                \n",
    "                \n",
    "\n",
    "            if ans == \"straight\":\n",
    "                print(\"You kept straight, and now you've stumbled upon an abandoned car.\")\n",
    "                ans = input(\"Would you like to explore the car or keep straight? (car/straight) \")\n",
    "                \n",
    "                if ans == \"car\":\n",
    "                    print(\"Getaway car! You found the keys and a map of the forest inside! You win and are now able to escape the forest!\")\n",
    "                \n",
    "                elif ans == \"straight\":\n",
    "                    print(\"Watch your step! You accidently fell inside an old well and got stuck. You lose...\")\n",
    "                \n",
    "\n",
    "                \n",
    "            \n",
    "\n",
    "\n",
    "    \n",
    "    else:\n",
    "        print(\"Cya...\")   #The message if user answers no to whether or not they want to play\n",
    "else:\n",
    "    print(\"You are not old enough to play...\")  #the message if user is younger than 18"
   ]
  },
  {
   "cell_type": "code",
   "execution_count": null,
   "id": "34414294-ce4c-443e-b3d2-1eacbc377d41",
   "metadata": {},
   "outputs": [],
   "source": []
  }
 ],
 "metadata": {
  "kernelspec": {
   "display_name": "Python 3 (ipykernel)",
   "language": "python",
   "name": "python3"
  },
  "language_info": {
   "codemirror_mode": {
    "name": "ipython",
    "version": 3
   },
   "file_extension": ".py",
   "mimetype": "text/x-python",
   "name": "python",
   "nbconvert_exporter": "python",
   "pygments_lexer": "ipython3",
   "version": "3.12.4"
  }
 },
 "nbformat": 4,
 "nbformat_minor": 5
}
